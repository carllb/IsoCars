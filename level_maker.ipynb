{
 "cells": [
  {
   "cell_type": "markdown",
   "metadata": {},
   "source": [
    "# Level Creator for the Isocars game\n",
    "\n",
    "### __run imports before any further code__\n",
    " _shift enter runs box of code_\n"
   ]
  },
  {
   "cell_type": "code",
   "execution_count": 26,
   "metadata": {},
   "outputs": [],
   "source": [
    "import json\n",
    "import random\n",
    "import os\n",
    "import copy"
   ]
  },
  {
   "cell_type": "markdown",
   "metadata": {},
   "source": [
    "## Initial setup\n",
    "\n",
    "- adjust NUM_LEVELS to adjust the number of levels the player will play\n",
    "- base enemy is the default enemy that will appear in level 1\n"
   ]
  },
  {
   "cell_type": "code",
   "execution_count": 39,
   "metadata": {},
   "outputs": [],
   "source": [
    "NUM_LEVELS = 5\n",
    "#scale as a increase by (level/frequency)*scale*base_value\n",
    "SPEED_SCALE = 0.05 \n",
    "HEALTH_SCALE = 0.40\n",
    "ARMOR_SCALE = 1.00\n",
    "NUMBER_SCALE = 1.5\n",
    "\n",
    "\n",
    "base_enemy = {\n",
    "    \"health\": 5,\n",
    "    \"armor\": 0,\n",
    "    \"speed\": 50,\n",
    "    \"reward\": 10,\n",
    "    \"type\": \"Normal\",\n",
    "    \"copies\": 10,\n",
    "    \"delay\": 1,\n",
    "    \"size\": 2,\n",
    "    \"frequency\": 1 #waves between appearances/ spawn every\n",
    "}\n",
    "\n",
    "\n",
    "car_types = [base_enemy]"
   ]
  },
  {
   "cell_type": "markdown",
   "metadata": {},
   "source": [
    "## Level Adjustments\n",
    "\n",
    "put any new style of cars here and when they should spawn"
   ]
  },
  {
   "cell_type": "code",
   "execution_count": 40,
   "metadata": {},
   "outputs": [],
   "source": [
    "boss_enemy = {\n",
    "    \"health\": 50,\n",
    "    \"armor\": 0,\n",
    "    \"speed\": 50,\n",
    "    \"reward\": 100,\n",
    "    \"type\": \"Boss\",\n",
    "    \"copies\": 1,\n",
    "    \"delay\": 4,\n",
    "    \"size\": 3,\n",
    "    \"frequency\": 5 \n",
    "}\n",
    "car_types.append(boss_enemy)\n",
    "\n",
    "fast_enemy = {\n",
    "    \"health\": 3,\n",
    "    \"armor\": 0,\n",
    "    \"speed\": 100,\n",
    "    \"reward\": 15,\n",
    "    \"type\": \"Fast\",\n",
    "    \"copies\": 5,\n",
    "    \"delay\": 0.5,\n",
    "    \"size\": 1,\n",
    "    \"frequency\": 3 \n",
    "}\n",
    "car_types.append(fast_enemy)\n"
   ]
  },
  {
   "cell_type": "code",
   "execution_count": 10,
   "metadata": {},
   "outputs": [
    {
     "name": "stdout",
     "output_type": "stream",
     "text": [
      "[{'health': 5, 'armor': 0, 'speed': 50, 'reward': 10, 'type': 'Normal', 'copies': 10, 'delay': 0.4, 'size': 2, 'frequency': 1}, {'health': 50, 'armor': 0, 'speed': 50, 'reward': 100, 'type': 'Normal', 'copies': 1, 'delay': 2, 'size': 3, 'frequency': 5}, {'health': 3, 'armor': 0, 'speed': 75, 'reward': 15, 'type': 'Normal', 'copies': 1, 'delay': 0.5, 'size': 1, 'frequency': 3}]\n"
     ]
    }
   ],
   "source": [
    "print(car_types)"
   ]
  },
  {
   "cell_type": "markdown",
   "metadata": {},
   "source": [
    "## Json creation\n",
    "\n",
    "run this code to make and view the json with information for each level "
   ]
  },
  {
   "cell_type": "code",
   "execution_count": 41,
   "metadata": {},
   "outputs": [
    {
     "name": "stdout",
     "output_type": "stream",
     "text": [
      "{\n",
      " \"levels\": [\n",
      "  [\n",
      "   {\n",
      "    \"health\": 5.0,\n",
      "    \"armor\": 0.0,\n",
      "    \"speed\": 50,\n",
      "    \"reward\": 5,\n",
      "    \"type\": \"Normal\",\n",
      "    \"copies\": 10,\n",
      "    \"delay\": 1,\n",
      "    \"size\": 2,\n",
      "    \"frequency\": 1\n",
      "   }\n",
      "  ],\n",
      "  [\n",
      "   {\n",
      "    \"health\": 7.0,\n",
      "    \"armor\": 0.0,\n",
      "    \"speed\": 52,\n",
      "    \"reward\": 5,\n",
      "    \"type\": \"Normal\",\n",
      "    \"copies\": 25,\n",
      "    \"delay\": 1,\n",
      "    \"size\": 2,\n",
      "    \"frequency\": 1\n",
      "   }\n",
      "  ],\n",
      "  [\n",
      "   {\n",
      "    \"health\": 9.0,\n",
      "    \"armor\": 0.0,\n",
      "    \"speed\": 55,\n",
      "    \"reward\": 6,\n",
      "    \"type\": \"Normal\",\n",
      "    \"copies\": 40,\n",
      "    \"delay\": 1,\n",
      "    \"size\": 2,\n",
      "    \"frequency\": 1\n",
      "   },\n",
      "   {\n",
      "    \"health\": 3.0,\n",
      "    \"armor\": 0.0,\n",
      "    \"speed\": 75,\n",
      "    \"reward\": 23,\n",
      "    \"type\": \"Fast\",\n",
      "    \"copies\": 1,\n",
      "    \"delay\": 0.5,\n",
      "    \"size\": 1,\n",
      "    \"frequency\": 3\n",
      "   }\n",
      "  ],\n",
      "  [\n",
      "   {\n",
      "    \"health\": 11.0,\n",
      "    \"armor\": 0.0,\n",
      "    \"speed\": 57,\n",
      "    \"reward\": 6,\n",
      "    \"type\": \"Normal\",\n",
      "    \"copies\": 55,\n",
      "    \"delay\": 1,\n",
      "    \"size\": 2,\n",
      "    \"frequency\": 1\n",
      "   }\n",
      "  ],\n",
      "  [\n",
      "   {\n",
      "    \"health\": 13.0,\n",
      "    \"armor\": 0.0,\n",
      "    \"speed\": 60,\n",
      "    \"reward\": 7,\n",
      "    \"type\": \"Normal\",\n",
      "    \"copies\": 70,\n",
      "    \"delay\": 1,\n",
      "    \"size\": 2,\n",
      "    \"frequency\": 1\n",
      "   },\n",
      "   {\n",
      "    \"health\": 50.0,\n",
      "    \"armor\": 0.0,\n",
      "    \"speed\": 50,\n",
      "    \"reward\": 50,\n",
      "    \"type\": \"Boss\",\n",
      "    \"copies\": 1,\n",
      "    \"delay\": 4,\n",
      "    \"size\": 3,\n",
      "    \"frequency\": 5\n",
      "   }\n",
      "  ]\n",
      " ]\n",
      "}\n"
     ]
    }
   ],
   "source": [
    "levels = []\n",
    "\n",
    "for level_num in range(1, NUM_LEVELS+1):\n",
    "    level = []\n",
    "    for enemy_type in car_types:\n",
    "        if (level_num % enemy_type['frequency'])==0:\n",
    "            occ = int(level_num/enemy_type['frequency']) -1\n",
    "            new_enemy = copy.copy(enemy_type)\n",
    "            new_enemy[\"health\"] = ((occ*HEALTH_SCALE)+1)*new_enemy[\"health\"]\n",
    "            new_enemy[\"armor\"] = (occ*ARMOR_SCALE+1)*new_enemy[\"armor\"]\n",
    "            new_enemy[\"speed\"] = int((occ*SPEED_SCALE+1)*new_enemy[\"speed\"])\n",
    "            new_enemy[\"copies\"] = int((occ*NUMBER_SCALE+1)*new_enemy[\"copies\"])\n",
    "            \n",
    "            # basic value function\n",
    "            value = (new_enemy[\"health\"]/10 + new_enemy[\"armor\"] + new_enemy[\"speed\"]/10)\n",
    "            \n",
    "            new_enemy[\"reward\"] = int(value*level_num/(occ+1))\n",
    "            new_enemy[\"size\"] = int(new_enemy[\"size\"]+level_num/10)\n",
    "            \n",
    "            level.append(new_enemy)\n",
    "    levels.append(level)\n",
    "\n",
    "file_contents = json.dumps({\"levels\":levels},  indent=1)\n",
    "print(file_contents)"
   ]
  },
  {
   "cell_type": "code",
   "execution_count": 19,
   "metadata": {},
   "outputs": [
    {
     "name": "stdout",
     "output_type": "stream",
     "text": [
      "[{'health': 5, 'armor': 0, 'speed': 50, 'reward': 10, 'type': 'Normal', 'copies': 10, 'delay': 0.4, 'size': 2, 'frequency': 1}, {'health': 50, 'armor': 0, 'speed': 50, 'reward': 100, 'type': 'Normal', 'copies': 1, 'delay': 2, 'size': 3, 'frequency': 5}, {'health': 3, 'armor': 0, 'speed': 75, 'reward': 15, 'type': 'Normal', 'copies': 1, 'delay': 0.5, 'size': 1, 'frequency': 3}]\n"
     ]
    }
   ],
   "source": [
    "print(car_types)"
   ]
  },
  {
   "cell_type": "markdown",
   "metadata": {},
   "source": [
    "## Json Export\n",
    "\n",
    "change filename -> '#description#.json' and run to export the json to the level data folder"
   ]
  },
  {
   "cell_type": "code",
   "execution_count": 42,
   "metadata": {},
   "outputs": [],
   "source": [
    "filename = 'Scaling_test.json'\n",
    "destination = 'assets/level_properties/'+filename\n",
    "\n",
    "with open(destination, 'w', encoding='utf-8') as f:\n",
    "    f.write(file_contents)\n"
   ]
  },
  {
   "cell_type": "code",
   "execution_count": null,
   "metadata": {},
   "outputs": [],
   "source": []
  }
 ],
 "metadata": {
  "kernelspec": {
   "display_name": "Python 3",
   "language": "python",
   "name": "python3"
  },
  "language_info": {
   "codemirror_mode": {
    "name": "ipython",
    "version": 3
   },
   "file_extension": ".py",
   "mimetype": "text/x-python",
   "name": "python",
   "nbconvert_exporter": "python",
   "pygments_lexer": "ipython3",
   "version": "3.11.9"
  }
 },
 "nbformat": 4,
 "nbformat_minor": 2
}
